{
 "cells": [
  {
   "cell_type": "markdown",
   "id": "7afb463b-cf62-4951-925e-397f44604143",
   "metadata": {},
   "source": [
    "# Package introductory notebook : implementing your own ODE problem\n",
    "\n",
    "## Context\n",
    "\n",
    "The `jinns` package aims at solving  differential equations among which ordinary differential equations (ODE) defined as \n",
    "$$\n",
    "\\begin{cases}\n",
    "\\tag{ODE}\n",
    "& \\mathcal{N}_\\eta[u](t) = 0, \\quad \\forall t \\in I = [0, T], & \\textrm{(Dynamic)}\\\\\n",
    "& u(0) = u_0, & \\textrm{(Initial condition)}\n",
    "\\end{cases}\n",
    "$$\n",
    "with $\\mathcal{N}_\\eta$ a differential operator of order $p$ (*i.e.* involving teh $p$-th order derivative of $u$). The goal may be two-fold \n",
    "\n",
    " 1. **Forward problem :** for a given set of parameters $\\eta$, find a parametric function $u_\\theta : I \\mapsto \\mathbb{R}$ which is a good approximation of the solution $u$.\n",
    " 2. **Inverse problem :** for a given observation of the dynamic $D = \\{ (t_i, u(t_i))\\}_{i=1}^{n_{obs}}$, find a the set of parameters $\\eta$ that best fits the data. \n",
    "\n",
    "##\n",
    "\n",
    "The package allows you to design your own problem via the definition of \n",
    "\n",
    " 1. a so-called `DynamicLoss` defining the differential operator $\\mathcal{N}_\\eta[u_\\theta] = 0$.\n",
    " 2. a `DataGenerator` object that handles the generation of the data on $\\Omega$, $\\partial \\Omega$ \n",
    "\n",
    "> Please note that the PDE equation may either be stationnary (in time) to that $u$ only depends on $x \\in \\Omega$.\n",
    "\n",
    "\n",
    "\n"
   ]
  },
  {
   "cell_type": "markdown",
   "id": "dd32ecbf-9f14-42f3-962f-fcccf09902e8",
   "metadata": {},
   "source": [
    "# Already implemented\n",
    "\n",
    "Some canonical ODE/PDE problems are already implemented in the `loss` submodule \n",
    "\n",
    " * **ODE :** (Generalized) Lotka Volterra\n",
    " * **PDE :** Fokker-Planck equation, FisherKPP, Burger Equation\n",
    " "
   ]
  }
 ],
 "metadata": {
  "kernelspec": {
   "display_name": "Python 3 (ipykernel)",
   "language": "python",
   "name": "python3"
  },
  "language_info": {
   "codemirror_mode": {
    "name": "ipython",
    "version": 3
   },
   "file_extension": ".py",
   "mimetype": "text/x-python",
   "name": "python",
   "nbconvert_exporter": "python",
   "pygments_lexer": "ipython3",
   "version": "3.11.4"
  }
 },
 "nbformat": 4,
 "nbformat_minor": 5
}
