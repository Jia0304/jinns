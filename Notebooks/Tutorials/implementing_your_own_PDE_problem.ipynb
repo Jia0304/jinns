{
 "cells": [
  {
   "cell_type": "markdown",
   "id": "7afb463b-cf62-4951-925e-397f44604143",
   "metadata": {},
   "source": [
    "# Package introductory notebook : implementing your own PDE problem\n",
    "\n",
    "## Context\n",
    "\n",
    "\n",
    "\n",
    "or partial differential equation (PDE) via a machine learning approach. \n",
    "\n",
    "\n",
    "\n",
    "##\n",
    "\n",
    "The package allows you to design your own problem via the definition of \n",
    "\n",
    " 1. a so-called `DynamicLoss` defining the differential operator $\\mathcal{N}_\\eta[u_\\theta] = 0$.\n",
    " 2. a `DataGenerator` object that handles the generation of the data on $\\Omega$, $\\partial \\Omega$ \n",
    "\n",
    "> Please note that the PDE equation may either be stationnary (in time) to that $u$ only depends on $x \\in \\Omega$.\n",
    "\n",
    "\n",
    "\n"
   ]
  },
  {
   "cell_type": "markdown",
   "id": "dd32ecbf-9f14-42f3-962f-fcccf09902e8",
   "metadata": {},
   "source": [
    "# Already implemented\n",
    "\n",
    "Some canonical ODE/PDE problems are already implemented in the `loss` submodule \n",
    "\n",
    " * **ODE :** (Generalized) Lotka Volterra\n",
    " * **PDE :** Fokker-Planck equation, FisherKPP, Burger Equation\n",
    " "
   ]
  }
 ],
 "metadata": {
  "kernelspec": {
   "display_name": "Python 3 (ipykernel)",
   "language": "python",
   "name": "python3"
  },
  "language_info": {
   "codemirror_mode": {
    "name": "ipython",
    "version": 3
   },
   "file_extension": ".py",
   "mimetype": "text/x-python",
   "name": "python",
   "nbconvert_exporter": "python",
   "pygments_lexer": "ipython3",
   "version": "3.11.4"
  }
 },
 "nbformat": 4,
 "nbformat_minor": 5
}
