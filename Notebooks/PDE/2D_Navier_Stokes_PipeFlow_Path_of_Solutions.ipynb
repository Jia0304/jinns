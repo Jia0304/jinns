{
 "cells": [
  {
   "cell_type": "markdown",
   "id": "1336523a",
   "metadata": {},
   "source": [
    "# Navier Stokes in a pipe flow (stationary 2D) with hard constraints + Estimation of a path of solution"
   ]
  },
  {
   "cell_type": "markdown",
   "id": "5292d3ca",
   "metadata": {},
   "source": [
    "We solve the stationary Navier Stokes PDE:\n",
    "\n",
    "$$\n",
    "\\begin{cases}\n",
    "\\nabla\\cdot\\mathbf{u}=0,\\\\\n",
    "(\\mathbf{u}\\cdot\\nabla)\\mathbf{u} + \\frac{1}{\\rho}\\nabla p - \\nu \\nabla^2\\mathbf{u}=0.\n",
    "\\end{cases}\n",
    "$$\n",
    "\n",
    "This becomes in 2D, with $\\mathbf{u}=\\begin{pmatrix}u_x \\\\ u_y\\end{pmatrix}$\n",
    "\n",
    "\n",
    "$$\n",
    "\\begin{cases}\n",
    "\\frac{\\partial}{\\partial x} u_x + \\frac{\\partial}{\\partial y} u_y = 0 \\\\\n",
    "\\begin{pmatrix}u_x\\frac{\\partial}{\\partial x} u_x + u_y\\frac{\\partial}{\\partial y} u_x \\\\\n",
    "u_x\\frac{\\partial}{\\partial x} u_y + u_y\\frac{\\partial}{\\partial y} u_y  \\end{pmatrix} +\n",
    "\\frac{1}{\\rho} \\begin{pmatrix} \\frac{\\partial}{\\partial x} p \\\\ \\frac{\\partial}{\\partial y} p \\end{pmatrix}\n",
    "- \\nu\n",
    "\\begin{pmatrix}\n",
    "\\frac{\\partial^2}{\\partial x^2} u_x + \\frac{\\partial^2}{\\partial y^2} u_x \\\\\n",
    "\\frac{\\partial^2}{\\partial x^2} u_y + \\frac{\\partial^2}{\\partial y^2} u_y\n",
    "\\end{pmatrix} = 0\\\\\n",
    "\\end{cases}\n",
    "$$\n",
    "\n",
    "\n",
    "With the boundary condition:\n",
    "$$\n",
    "\\begin{cases}\n",
    "u(x, \\frac{d}{2}) = -u(x, \\frac{d}{2})=0, \\forall x \\text{ (boundary condition) }\\\\\n",
    "p(x_{min}, y)=0 \\text{ and } p(x_{max}, y)=0.1, \\forall y \\text{ (boundary condition) }\n",
    "\\end{cases}\n",
    "$$\n",
    "\n",
    "The domain is defined with $x\\in[0,L]$ and $y\\in[-R, R]$. __Note__ that because of the central symmetry with respect to the centerline of the tube, we only consider the $y$ axis which will represent the cross section\n",
    "\n",
    "This notebook aims at reproducing the exampleof section 3.1 of [*Surrogate modeling for fluid flows based on physics-constrained deep learning without simulation data*, Sun et al. 2020](https://www.sciencedirect.com/science/article/pii/S004578251930622X). "
   ]
  },
  {
   "cell_type": "code",
   "execution_count": 1,
   "id": "8bf8bebc-b311-4eb4-ad63-11447f62b280",
   "metadata": {},
   "outputs": [],
   "source": [
    "%load_ext autoreload\n",
    "%autoreload 2\n",
    "%matplotlib inline"
   ]
  },
  {
   "cell_type": "markdown",
   "id": "73ef2d19",
   "metadata": {},
   "source": [
    "Float64 and GPU settings"
   ]
  },
  {
   "cell_type": "code",
   "execution_count": 2,
   "id": "7e61d4f9",
   "metadata": {},
   "outputs": [],
   "source": [
    "#import os; os.environ[\"JAX_ENABLE_X64\"] = \"TRUE\" # comment/uncomment to  disable/enable float64 for JAX\n",
    "#import os; os.environ[\"CUDA_VISIBLE_DEVICES\"]=\"\" # If uncommented then GPU is disable"
   ]
  },
  {
   "cell_type": "markdown",
   "id": "70d13b5b",
   "metadata": {},
   "source": [
    "Import our package"
   ]
  },
  {
   "cell_type": "code",
   "execution_count": 3,
   "id": "c8d1c64d",
   "metadata": {},
   "outputs": [
    {
     "name": "stderr",
     "output_type": "stream",
     "text": [
      "/home/hugo/anaconda3/envs/pinn2/lib/python3.10/site-packages/tqdm/auto.py:21: TqdmWarning: IProgress not found. Please update jupyter and ipywidgets. See https://ipywidgets.readthedocs.io/en/stable/user_install.html\n",
      "  from .autonotebook import tqdm as notebook_tqdm\n"
     ]
    }
   ],
   "source": [
    "import jinns"
   ]
  },
  {
   "cell_type": "markdown",
   "id": "bca7fe80",
   "metadata": {},
   "source": [
    "Import other dependencies"
   ]
  },
  {
   "cell_type": "code",
   "execution_count": 4,
   "id": "3abe5254-7556-424e-a57e-d364d67244a1",
   "metadata": {},
   "outputs": [],
   "source": [
    "import jax\n",
    "from jax import random, vmap\n",
    "import jax.numpy as jnp\n",
    "import equinox as eqx\n",
    "from functools import partial\n",
    "import matplotlib.pyplot as plt\n",
    "\n",
    "key = random.PRNGKey(2)"
   ]
  },
  {
   "cell_type": "markdown",
   "id": "26b96440-60c7-4318-9254-f943b6e81535",
   "metadata": {},
   "source": [
    "Create the neural network architecture for the PINN with `equinox`. We have two Pinns for the velocity field `u` and for the pressure field `p`. The first one is vectorial (2D) the second one is scalar."
   ]
  },
  {
   "cell_type": "code",
   "execution_count": 5,
   "id": "94a8a374",
   "metadata": {},
   "outputs": [],
   "source": [
    "eqx_list = [\n",
    "    [eqx.nn.Linear, 3, 50],\n",
    "    [jax.nn.tanh],\n",
    "    [eqx.nn.Linear, 50, 50],\n",
    "    [jax.nn.tanh],\n",
    "    [eqx.nn.Linear, 50, 50],\n",
    "    [jax.nn.tanh],\n",
    "    [eqx.nn.Linear, 50, 50],\n",
    "    [jax.nn.tanh],\n",
    "    [eqx.nn.Linear, 50, 50],\n",
    "    [jax.nn.tanh],\n",
    "    [eqx.nn.Linear, 50, 50],\n",
    "    [jax.nn.tanh],\n",
    "    [eqx.nn.Linear, 50, 50],\n",
    "    [jax.nn.tanh],\n",
    "    [eqx.nn.Linear, 50, 3],\n",
    "]\n",
    "key, subkey = random.split(key)\n",
    "u_init_param_fn, u_raw = jinns.utils.create_PINN(subkey, eqx_list, \"statio_PDE\", 2, with_eq_params=['nu'])\n",
    "\n",
    "# eqx_list = [\n",
    "#     [eqx.nn.Linear, 3, 50],\n",
    "#     [jax.nn.tanh],\n",
    "#     [eqx.nn.Linear, 50, 50],\n",
    "#     [jax.nn.tanh],\n",
    "#     [eqx.nn.Linear, 50, 50],\n",
    "#     [jax.nn.tanh],\n",
    "#     [eqx.nn.Linear, 50, 1],\n",
    "# ]\n",
    "# key, subkey = random.split(key)\n",
    "# p_init_param_fn, p_raw = jinns.utils.create_PINN(subkey, eqx_list, \"statio_PDE\", 2, with_eq_params=['nu'])"
   ]
  },
  {
   "cell_type": "code",
   "execution_count": 6,
   "id": "27f58423",
   "metadata": {},
   "outputs": [],
   "source": [
    "u_init_nn_params = u_init_param_fn()\n",
    "p_init_nn_params = u_init_nn_params"
   ]
  },
  {
   "cell_type": "markdown",
   "id": "1f2cfe2b-0659-45db-be9d-57c2513fe35c",
   "metadata": {},
   "source": [
    "Create a DataGenerator object and set up some geometry. Following the [authors' implementation](https://github.com/Jianxun-Wang/LabelFree-DNN-Surrogate/blob/master/Tutorial/PipeFlow.ipynb), we set a pipe length $L=1$ and a pipe radius$R=0.05$. Following the authors, we also simplify the problem because of its geometry: the solution is symmetric with respect to the center of the pipe, at a given point $x\\in[0, L]$. Therefore we only need one axis representing a pipe cross section and one axis representing the pipe length."
   ]
  },
  {
   "cell_type": "code",
   "execution_count": 7,
   "id": "05bfd086",
   "metadata": {},
   "outputs": [],
   "source": [
    "L = 1\n",
    "R = 0.05\n",
    "\n",
    "p_out = 0\n",
    "p_in = 0.1"
   ]
  },
  {
   "cell_type": "code",
   "execution_count": 8,
   "id": "faa41061-a276-4beb-931f-fcf2573b0095",
   "metadata": {},
   "outputs": [],
   "source": [
    "n = 1000\n",
    "nb = None\n",
    "omega_batch_size = 32\n",
    "omega_border_batch_size = None\n",
    "dim = 2\n",
    "xmin = 0\n",
    "xmax = xmin + L\n",
    "ymin = -R\n",
    "ymax = ymin + 2 * R\n",
    "# zmin = -R\n",
    "# zmax = zmin + 2 * R\n",
    "\n",
    "method = \"uniform\"\n",
    "key, subkey = random.split(key)\n",
    "train_data = jinns.data.CubicMeshPDEStatio(\n",
    "    subkey,\n",
    "    n,\n",
    "    nb,\n",
    "    omega_batch_size,\n",
    "    omega_border_batch_size,\n",
    "    dim,\n",
    "    (xmin, ymin),\n",
    "    (xmax, ymax),\n",
    "    method,\n",
    "    False,\n",
    "    {'nu':(2e-4, 1.9e-3)}\n",
    ")"
   ]
  },
  {
   "cell_type": "code",
   "execution_count": 9,
   "id": "f56ad50a",
   "metadata": {},
   "outputs": [],
   "source": [
    "#train_data.get_batch()"
   ]
  },
  {
   "cell_type": "markdown",
   "id": "a071805f",
   "metadata": {},
   "source": [
    "__Note:__ that we choose a very simple data generator and no boundary condition despite the pipe-like geometry. Indeed, we choose to follow the author's hard coded boundary constraints. The neural network outputs are then multiplied with a factor which enforces the constraints. We impose the so-called _slip-condition_ on the borders, ie, the fluid has a null speed on the borders."
   ]
  },
  {
   "cell_type": "code",
   "execution_count": 10,
   "id": "b30092a8",
   "metadata": {},
   "outputs": [],
   "source": [
    "u = lambda x, nn_params, eq_params: u_raw(x, nn_params, eq_params)[:2] * (R ** 2 - x[1] ** 2) # multiplies the 2 componentse"
   ]
  },
  {
   "cell_type": "code",
   "execution_count": 11,
   "id": "d18c73d2-ff23-4019-a7a1-40cc023dbf53",
   "metadata": {},
   "outputs": [
    {
     "ename": "AttributeError",
     "evalue": "'NoneType' object has no attribute 'items'",
     "output_type": "error",
     "traceback": [
      "\u001b[0;31m---------------------------------------------------------------------------\u001b[0m",
      "\u001b[0;31mAttributeError\u001b[0m                            Traceback (most recent call last)",
      "Cell \u001b[0;32mIn[11], line 7\u001b[0m\n\u001b[1;32m      2\u001b[0m val_xy_data \u001b[38;5;241m=\u001b[39m [jnp\u001b[38;5;241m.\u001b[39mlinspace(xmin, xmax, nx),\n\u001b[1;32m      3\u001b[0m                jnp\u001b[38;5;241m.\u001b[39mlinspace(ymin, ymax, ny)\n\u001b[1;32m      4\u001b[0m               ]\n\u001b[1;32m      6\u001b[0m u_xinit \u001b[38;5;241m=\u001b[39m \u001b[38;5;28;01mlambda\u001b[39;00m x: u(x, u_init_nn_params, \u001b[38;5;28;01mNone\u001b[39;00m)[\u001b[38;5;241m0\u001b[39m]\n\u001b[0;32m----> 7\u001b[0m \u001b[43mjinns\u001b[49m\u001b[38;5;241;43m.\u001b[39;49m\u001b[43mdata\u001b[49m\u001b[38;5;241;43m.\u001b[39;49m\u001b[43mplot2d\u001b[49m\u001b[43m(\u001b[49m\n\u001b[1;32m      8\u001b[0m \u001b[43m    \u001b[49m\u001b[43mfun\u001b[49m\u001b[38;5;241;43m=\u001b[39;49m\u001b[43mu_xinit\u001b[49m\u001b[43m,\u001b[49m\n\u001b[1;32m      9\u001b[0m \u001b[43m    \u001b[49m\u001b[43mxy_data\u001b[49m\u001b[38;5;241;43m=\u001b[39;49m\u001b[43mval_xy_data\u001b[49m\u001b[43m,\u001b[49m\n\u001b[1;32m     10\u001b[0m \u001b[43m    \u001b[49m\u001b[43mtitle\u001b[49m\u001b[38;5;241;43m=\u001b[39;49m\u001b[38;5;124;43m\"\u001b[39;49m\u001b[38;5;124;43mu_init(x)\u001b[39;49m\u001b[38;5;124;43m\"\u001b[39;49m\n\u001b[1;32m     11\u001b[0m \u001b[43m)\u001b[49m\n\u001b[1;32m     13\u001b[0m u_yinit \u001b[38;5;241m=\u001b[39m \u001b[38;5;28;01mlambda\u001b[39;00m x: u(x, u_init_nn_params, \u001b[38;5;28;01mNone\u001b[39;00m)[\u001b[38;5;241m1\u001b[39m]\n\u001b[1;32m     14\u001b[0m jinns\u001b[38;5;241m.\u001b[39mdata\u001b[38;5;241m.\u001b[39mplot2d(\n\u001b[1;32m     15\u001b[0m     fun\u001b[38;5;241m=\u001b[39mu_yinit,\n\u001b[1;32m     16\u001b[0m     xy_data\u001b[38;5;241m=\u001b[39mval_xy_data,\n\u001b[1;32m     17\u001b[0m     title\u001b[38;5;241m=\u001b[39m\u001b[38;5;124m\"\u001b[39m\u001b[38;5;124mu_init(y)\u001b[39m\u001b[38;5;124m\"\u001b[39m\n\u001b[1;32m     18\u001b[0m )\n",
      "File \u001b[0;32m~/Documents/recherche/pinn/gitlab/jinns/data/_display.py:60\u001b[0m, in \u001b[0;36mplot2d\u001b[0;34m(fun, xy_data, times, Tmax, title, figsize, cmap)\u001b[0m\n\u001b[1;32m     57\u001b[0m \u001b[38;5;28;01mif\u001b[39;00m times \u001b[38;5;129;01mis\u001b[39;00m \u001b[38;5;28;01mNone\u001b[39;00m:\n\u001b[1;32m     58\u001b[0m     \u001b[38;5;66;03m# Statio case : expect a function of one argument fun(x)\u001b[39;00m\n\u001b[1;32m     59\u001b[0m     v_fun \u001b[38;5;241m=\u001b[39m vmap(fun, \u001b[38;5;241m0\u001b[39m, \u001b[38;5;241m0\u001b[39m)\n\u001b[0;32m---> 60\u001b[0m     \u001b[43m_plot_2D_statio\u001b[49m\u001b[43m(\u001b[49m\u001b[43mv_fun\u001b[49m\u001b[43m,\u001b[49m\u001b[43m \u001b[49m\u001b[43mmesh\u001b[49m\u001b[43m,\u001b[49m\u001b[43m \u001b[49m\u001b[43mplot\u001b[49m\u001b[38;5;241;43m=\u001b[39;49m\u001b[38;5;28;43;01mTrue\u001b[39;49;00m\u001b[43m,\u001b[49m\u001b[43m \u001b[49m\u001b[43mcolorbar\u001b[49m\u001b[38;5;241;43m=\u001b[39;49m\u001b[38;5;28;43;01mTrue\u001b[39;49;00m\u001b[43m,\u001b[49m\u001b[43m \u001b[49m\u001b[43mcmap\u001b[49m\u001b[38;5;241;43m=\u001b[39;49m\u001b[43mcmap\u001b[49m\u001b[43m)\u001b[49m\n\u001b[1;32m     61\u001b[0m     plt\u001b[38;5;241m.\u001b[39mtitle(title)\n\u001b[1;32m     63\u001b[0m \u001b[38;5;28;01melse\u001b[39;00m:\n",
      "File \u001b[0;32m~/Documents/recherche/pinn/gitlab/jinns/data/_display.py:119\u001b[0m, in \u001b[0;36m_plot_2D_statio\u001b[0;34m(v_fun, mesh, plot, colorbar, cmap, figsize)\u001b[0m\n\u001b[1;32m     98\u001b[0m \u001b[38;5;250m\u001b[39m\u001b[38;5;124;03m\"\"\"Function that plot the function u(x) with 2-D input x using pcolormesh()\u001b[39;00m\n\u001b[1;32m     99\u001b[0m \n\u001b[1;32m    100\u001b[0m \n\u001b[0;32m   (...)\u001b[0m\n\u001b[1;32m    115\u001b[0m \n\u001b[1;32m    116\u001b[0m \u001b[38;5;124;03m\"\"\"\u001b[39;00m\n\u001b[1;32m    118\u001b[0m x_grid, y_grid \u001b[38;5;241m=\u001b[39m mesh\n\u001b[0;32m--> 119\u001b[0m values \u001b[38;5;241m=\u001b[39m \u001b[43mv_fun\u001b[49m\u001b[43m(\u001b[49m\u001b[43mjnp\u001b[49m\u001b[38;5;241;43m.\u001b[39;49m\u001b[43mvstack\u001b[49m\u001b[43m(\u001b[49m\u001b[43m[\u001b[49m\u001b[43mx_grid\u001b[49m\u001b[38;5;241;43m.\u001b[39;49m\u001b[43mflatten\u001b[49m\u001b[43m(\u001b[49m\u001b[43m)\u001b[49m\u001b[43m,\u001b[49m\u001b[43m \u001b[49m\u001b[43my_grid\u001b[49m\u001b[38;5;241;43m.\u001b[39;49m\u001b[43mflatten\u001b[49m\u001b[43m(\u001b[49m\u001b[43m)\u001b[49m\u001b[43m]\u001b[49m\u001b[43m)\u001b[49m\u001b[38;5;241;43m.\u001b[39;49m\u001b[43mT\u001b[49m\u001b[43m)\u001b[49m\n\u001b[1;32m    120\u001b[0m values_grid \u001b[38;5;241m=\u001b[39m values\u001b[38;5;241m.\u001b[39mreshape(x_grid\u001b[38;5;241m.\u001b[39mshape)\n\u001b[1;32m    122\u001b[0m \u001b[38;5;28;01mif\u001b[39;00m plot:\n",
      "    \u001b[0;31m[... skipping hidden 3 frame]\u001b[0m\n",
      "Cell \u001b[0;32mIn[11], line 6\u001b[0m, in \u001b[0;36m<lambda>\u001b[0;34m(x)\u001b[0m\n\u001b[1;32m      1\u001b[0m nx, ny \u001b[38;5;241m=\u001b[39m \u001b[38;5;241m1000\u001b[39m, \u001b[38;5;241m1000\u001b[39m\n\u001b[1;32m      2\u001b[0m val_xy_data \u001b[38;5;241m=\u001b[39m [jnp\u001b[38;5;241m.\u001b[39mlinspace(xmin, xmax, nx),\n\u001b[1;32m      3\u001b[0m                jnp\u001b[38;5;241m.\u001b[39mlinspace(ymin, ymax, ny)\n\u001b[1;32m      4\u001b[0m               ]\n\u001b[0;32m----> 6\u001b[0m u_xinit \u001b[38;5;241m=\u001b[39m \u001b[38;5;28;01mlambda\u001b[39;00m x: \u001b[43mu\u001b[49m\u001b[43m(\u001b[49m\u001b[43mx\u001b[49m\u001b[43m,\u001b[49m\u001b[43m \u001b[49m\u001b[43mu_init_nn_params\u001b[49m\u001b[43m,\u001b[49m\u001b[43m \u001b[49m\u001b[38;5;28;43;01mNone\u001b[39;49;00m\u001b[43m)\u001b[49m[\u001b[38;5;241m0\u001b[39m]\n\u001b[1;32m      7\u001b[0m jinns\u001b[38;5;241m.\u001b[39mdata\u001b[38;5;241m.\u001b[39mplot2d(\n\u001b[1;32m      8\u001b[0m     fun\u001b[38;5;241m=\u001b[39mu_xinit,\n\u001b[1;32m      9\u001b[0m     xy_data\u001b[38;5;241m=\u001b[39mval_xy_data,\n\u001b[1;32m     10\u001b[0m     title\u001b[38;5;241m=\u001b[39m\u001b[38;5;124m\"\u001b[39m\u001b[38;5;124mu_init(x)\u001b[39m\u001b[38;5;124m\"\u001b[39m\n\u001b[1;32m     11\u001b[0m )\n\u001b[1;32m     13\u001b[0m u_yinit \u001b[38;5;241m=\u001b[39m \u001b[38;5;28;01mlambda\u001b[39;00m x: u(x, u_init_nn_params, \u001b[38;5;28;01mNone\u001b[39;00m)[\u001b[38;5;241m1\u001b[39m]\n",
      "Cell \u001b[0;32mIn[10], line 1\u001b[0m, in \u001b[0;36m<lambda>\u001b[0;34m(x, nn_params, eq_params)\u001b[0m\n\u001b[0;32m----> 1\u001b[0m u \u001b[38;5;241m=\u001b[39m \u001b[38;5;28;01mlambda\u001b[39;00m x, nn_params, eq_params: \u001b[43mu_raw\u001b[49m\u001b[43m(\u001b[49m\u001b[43mx\u001b[49m\u001b[43m,\u001b[49m\u001b[43m \u001b[49m\u001b[43mnn_params\u001b[49m\u001b[43m,\u001b[49m\u001b[43m \u001b[49m\u001b[43meq_params\u001b[49m\u001b[43m)\u001b[49m[:\u001b[38;5;241m2\u001b[39m] \u001b[38;5;241m*\u001b[39m (R \u001b[38;5;241m*\u001b[39m\u001b[38;5;241m*\u001b[39m \u001b[38;5;241m2\u001b[39m \u001b[38;5;241m-\u001b[39m x[\u001b[38;5;241m1\u001b[39m] \u001b[38;5;241m*\u001b[39m\u001b[38;5;241m*\u001b[39m \u001b[38;5;241m2\u001b[39m) \u001b[38;5;66;03m# multiplies the 2 componentse\u001b[39;00m\n",
      "File \u001b[0;32m~/Documents/recherche/pinn/gitlab/jinns/utils/_utils.py:197\u001b[0m, in \u001b[0;36mcreate_PINN.<locals>.make_mlp.<locals>.apply_fn\u001b[0;34m(x, u_params, eq_params)\u001b[0m\n\u001b[1;32m    194\u001b[0m \u001b[38;5;28;01mdef\u001b[39;00m \u001b[38;5;21mapply_fn\u001b[39m(x, u_params, eq_params):\n\u001b[1;32m    195\u001b[0m     model \u001b[38;5;241m=\u001b[39m eqx\u001b[38;5;241m.\u001b[39mcombine(u_params, static)\n\u001b[1;32m    196\u001b[0m     eq_params_flatten \u001b[38;5;241m=\u001b[39m jnp\u001b[38;5;241m.\u001b[39mconcatenate(\n\u001b[0;32m--> 197\u001b[0m         [e\u001b[38;5;241m.\u001b[39mravel() \u001b[38;5;28;01mfor\u001b[39;00m k, e \u001b[38;5;129;01min\u001b[39;00m \u001b[43meq_params\u001b[49m\u001b[38;5;241;43m.\u001b[39;49m\u001b[43mitems\u001b[49m() \u001b[38;5;28;01mif\u001b[39;00m k \u001b[38;5;129;01min\u001b[39;00m with_eq_params]\n\u001b[1;32m    198\u001b[0m     )\n\u001b[1;32m    199\u001b[0m     \u001b[38;5;66;03m# if eq_params_flatten.shape[-1] == 1:\u001b[39;00m\n\u001b[1;32m    200\u001b[0m     \u001b[38;5;66;03m#    eq_params_flatten = jnp.repeat(\u001b[39;00m\n\u001b[1;32m    201\u001b[0m     \u001b[38;5;66;03m#        eq_params_flatten, x.shape[0], axis=0\u001b[39;00m\n\u001b[1;32m    202\u001b[0m     \u001b[38;5;66;03m#    )\u001b[39;00m\n\u001b[1;32m    203\u001b[0m     x_eq_params \u001b[38;5;241m=\u001b[39m jnp\u001b[38;5;241m.\u001b[39mconcatenate([x, eq_params_flatten], axis\u001b[38;5;241m=\u001b[39m\u001b[38;5;241m-\u001b[39m\u001b[38;5;241m1\u001b[39m)\n",
      "\u001b[0;31mAttributeError\u001b[0m: 'NoneType' object has no attribute 'items'"
     ]
    }
   ],
   "source": [
    "nx, ny = 1000, 1000\n",
    "val_xy_data = [jnp.linspace(xmin, xmax, nx),\n",
    "               jnp.linspace(ymin, ymax, ny)\n",
    "              ]\n",
    "\n",
    "u_xinit = lambda x: u(x, u_init_nn_params, None)[0]\n",
    "jinns.data.plot2d(\n",
    "    fun=u_xinit,\n",
    "    xy_data=val_xy_data,\n",
    "    title=\"u_init(x)\"\n",
    ")\n",
    "\n",
    "u_yinit = lambda x: u(x, u_init_nn_params, None)[1]\n",
    "jinns.data.plot2d(\n",
    "    fun=u_yinit,\n",
    "    xy_data=val_xy_data,\n",
    "    title=\"u_init(y)\"\n",
    ")"
   ]
  },
  {
   "cell_type": "markdown",
   "id": "76f651c3",
   "metadata": {},
   "source": [
    "We also impose the pressure inlet and outlet condition"
   ]
  },
  {
   "cell_type": "code",
   "execution_count": 12,
   "id": "9809a616",
   "metadata": {},
   "outputs": [],
   "source": [
    "p = lambda x, nn_params, eq_params: (x[0] - xmin) / (xmax - xmin) * p_out + (xmax - x[0]) / (xmax - xmin) * p_in + (xmin-x[0]) * (xmax - x[0]) * u_raw(x, nn_params, eq_params)[2]"
   ]
  },
  {
   "cell_type": "code",
   "execution_count": 13,
   "id": "7076ca3b",
   "metadata": {},
   "outputs": [
    {
     "ename": "AttributeError",
     "evalue": "'NoneType' object has no attribute 'items'",
     "output_type": "error",
     "traceback": [
      "\u001b[0;31m---------------------------------------------------------------------------\u001b[0m",
      "\u001b[0;31mAttributeError\u001b[0m                            Traceback (most recent call last)",
      "Cell \u001b[0;32mIn[13], line 1\u001b[0m\n\u001b[0;32m----> 1\u001b[0m \u001b[43mjinns\u001b[49m\u001b[38;5;241;43m.\u001b[39;49m\u001b[43mdata\u001b[49m\u001b[38;5;241;43m.\u001b[39;49m\u001b[43mplot2d\u001b[49m\u001b[43m(\u001b[49m\n\u001b[1;32m      2\u001b[0m \u001b[43m    \u001b[49m\u001b[43mfun\u001b[49m\u001b[43m \u001b[49m\u001b[38;5;241;43m=\u001b[39;49m\u001b[43m \u001b[49m\u001b[38;5;28;43;01mlambda\u001b[39;49;00m\u001b[43m \u001b[49m\u001b[43mx\u001b[49m\u001b[43m:\u001b[49m\u001b[43m \u001b[49m\u001b[43mp\u001b[49m\u001b[43m(\u001b[49m\u001b[43mx\u001b[49m\u001b[43m,\u001b[49m\u001b[43m \u001b[49m\u001b[43mp_init_nn_params\u001b[49m\u001b[43m,\u001b[49m\u001b[43m \u001b[49m\u001b[38;5;28;43;01mNone\u001b[39;49;00m\u001b[43m)\u001b[49m\u001b[43m,\u001b[49m\n\u001b[1;32m      3\u001b[0m \u001b[43m    \u001b[49m\u001b[43mxy_data\u001b[49m\u001b[38;5;241;43m=\u001b[39;49m\u001b[43mval_xy_data\u001b[49m\u001b[43m,\u001b[49m\n\u001b[1;32m      4\u001b[0m \u001b[43m    \u001b[49m\u001b[43mtitle\u001b[49m\u001b[43m \u001b[49m\u001b[38;5;241;43m=\u001b[39;49m\u001b[43m \u001b[49m\u001b[38;5;124;43m\"\u001b[39;49m\u001b[38;5;124;43mp(x, y)\u001b[39;49m\u001b[38;5;124;43m\"\u001b[39;49m\n\u001b[1;32m      5\u001b[0m \u001b[43m)\u001b[49m\n",
      "File \u001b[0;32m~/Documents/recherche/pinn/gitlab/jinns/data/_display.py:60\u001b[0m, in \u001b[0;36mplot2d\u001b[0;34m(fun, xy_data, times, Tmax, title, figsize, cmap)\u001b[0m\n\u001b[1;32m     57\u001b[0m \u001b[38;5;28;01mif\u001b[39;00m times \u001b[38;5;129;01mis\u001b[39;00m \u001b[38;5;28;01mNone\u001b[39;00m:\n\u001b[1;32m     58\u001b[0m     \u001b[38;5;66;03m# Statio case : expect a function of one argument fun(x)\u001b[39;00m\n\u001b[1;32m     59\u001b[0m     v_fun \u001b[38;5;241m=\u001b[39m vmap(fun, \u001b[38;5;241m0\u001b[39m, \u001b[38;5;241m0\u001b[39m)\n\u001b[0;32m---> 60\u001b[0m     \u001b[43m_plot_2D_statio\u001b[49m\u001b[43m(\u001b[49m\u001b[43mv_fun\u001b[49m\u001b[43m,\u001b[49m\u001b[43m \u001b[49m\u001b[43mmesh\u001b[49m\u001b[43m,\u001b[49m\u001b[43m \u001b[49m\u001b[43mplot\u001b[49m\u001b[38;5;241;43m=\u001b[39;49m\u001b[38;5;28;43;01mTrue\u001b[39;49;00m\u001b[43m,\u001b[49m\u001b[43m \u001b[49m\u001b[43mcolorbar\u001b[49m\u001b[38;5;241;43m=\u001b[39;49m\u001b[38;5;28;43;01mTrue\u001b[39;49;00m\u001b[43m,\u001b[49m\u001b[43m \u001b[49m\u001b[43mcmap\u001b[49m\u001b[38;5;241;43m=\u001b[39;49m\u001b[43mcmap\u001b[49m\u001b[43m)\u001b[49m\n\u001b[1;32m     61\u001b[0m     plt\u001b[38;5;241m.\u001b[39mtitle(title)\n\u001b[1;32m     63\u001b[0m \u001b[38;5;28;01melse\u001b[39;00m:\n",
      "File \u001b[0;32m~/Documents/recherche/pinn/gitlab/jinns/data/_display.py:119\u001b[0m, in \u001b[0;36m_plot_2D_statio\u001b[0;34m(v_fun, mesh, plot, colorbar, cmap, figsize)\u001b[0m\n\u001b[1;32m     98\u001b[0m \u001b[38;5;250m\u001b[39m\u001b[38;5;124;03m\"\"\"Function that plot the function u(x) with 2-D input x using pcolormesh()\u001b[39;00m\n\u001b[1;32m     99\u001b[0m \n\u001b[1;32m    100\u001b[0m \n\u001b[0;32m   (...)\u001b[0m\n\u001b[1;32m    115\u001b[0m \n\u001b[1;32m    116\u001b[0m \u001b[38;5;124;03m\"\"\"\u001b[39;00m\n\u001b[1;32m    118\u001b[0m x_grid, y_grid \u001b[38;5;241m=\u001b[39m mesh\n\u001b[0;32m--> 119\u001b[0m values \u001b[38;5;241m=\u001b[39m \u001b[43mv_fun\u001b[49m\u001b[43m(\u001b[49m\u001b[43mjnp\u001b[49m\u001b[38;5;241;43m.\u001b[39;49m\u001b[43mvstack\u001b[49m\u001b[43m(\u001b[49m\u001b[43m[\u001b[49m\u001b[43mx_grid\u001b[49m\u001b[38;5;241;43m.\u001b[39;49m\u001b[43mflatten\u001b[49m\u001b[43m(\u001b[49m\u001b[43m)\u001b[49m\u001b[43m,\u001b[49m\u001b[43m \u001b[49m\u001b[43my_grid\u001b[49m\u001b[38;5;241;43m.\u001b[39;49m\u001b[43mflatten\u001b[49m\u001b[43m(\u001b[49m\u001b[43m)\u001b[49m\u001b[43m]\u001b[49m\u001b[43m)\u001b[49m\u001b[38;5;241;43m.\u001b[39;49m\u001b[43mT\u001b[49m\u001b[43m)\u001b[49m\n\u001b[1;32m    120\u001b[0m values_grid \u001b[38;5;241m=\u001b[39m values\u001b[38;5;241m.\u001b[39mreshape(x_grid\u001b[38;5;241m.\u001b[39mshape)\n\u001b[1;32m    122\u001b[0m \u001b[38;5;28;01mif\u001b[39;00m plot:\n",
      "    \u001b[0;31m[... skipping hidden 3 frame]\u001b[0m\n",
      "Cell \u001b[0;32mIn[13], line 2\u001b[0m, in \u001b[0;36m<lambda>\u001b[0;34m(x)\u001b[0m\n\u001b[1;32m      1\u001b[0m jinns\u001b[38;5;241m.\u001b[39mdata\u001b[38;5;241m.\u001b[39mplot2d(\n\u001b[0;32m----> 2\u001b[0m     fun \u001b[38;5;241m=\u001b[39m \u001b[38;5;28;01mlambda\u001b[39;00m x: \u001b[43mp\u001b[49m\u001b[43m(\u001b[49m\u001b[43mx\u001b[49m\u001b[43m,\u001b[49m\u001b[43m \u001b[49m\u001b[43mp_init_nn_params\u001b[49m\u001b[43m,\u001b[49m\u001b[43m \u001b[49m\u001b[38;5;28;43;01mNone\u001b[39;49;00m\u001b[43m)\u001b[49m,\n\u001b[1;32m      3\u001b[0m     xy_data\u001b[38;5;241m=\u001b[39mval_xy_data,\n\u001b[1;32m      4\u001b[0m     title \u001b[38;5;241m=\u001b[39m \u001b[38;5;124m\"\u001b[39m\u001b[38;5;124mp(x, y)\u001b[39m\u001b[38;5;124m\"\u001b[39m\n\u001b[1;32m      5\u001b[0m )\n",
      "Cell \u001b[0;32mIn[12], line 1\u001b[0m, in \u001b[0;36m<lambda>\u001b[0;34m(x, nn_params, eq_params)\u001b[0m\n\u001b[0;32m----> 1\u001b[0m p \u001b[38;5;241m=\u001b[39m \u001b[38;5;28;01mlambda\u001b[39;00m x, nn_params, eq_params: (x[\u001b[38;5;241m0\u001b[39m] \u001b[38;5;241m-\u001b[39m xmin) \u001b[38;5;241m/\u001b[39m (xmax \u001b[38;5;241m-\u001b[39m xmin) \u001b[38;5;241m*\u001b[39m p_out \u001b[38;5;241m+\u001b[39m (xmax \u001b[38;5;241m-\u001b[39m x[\u001b[38;5;241m0\u001b[39m]) \u001b[38;5;241m/\u001b[39m (xmax \u001b[38;5;241m-\u001b[39m xmin) \u001b[38;5;241m*\u001b[39m p_in \u001b[38;5;241m+\u001b[39m (xmin\u001b[38;5;241m-\u001b[39mx[\u001b[38;5;241m0\u001b[39m]) \u001b[38;5;241m*\u001b[39m (xmax \u001b[38;5;241m-\u001b[39m x[\u001b[38;5;241m0\u001b[39m]) \u001b[38;5;241m*\u001b[39m \u001b[43mu_raw\u001b[49m\u001b[43m(\u001b[49m\u001b[43mx\u001b[49m\u001b[43m,\u001b[49m\u001b[43m \u001b[49m\u001b[43mnn_params\u001b[49m\u001b[43m,\u001b[49m\u001b[43m \u001b[49m\u001b[43meq_params\u001b[49m\u001b[43m)\u001b[49m[\u001b[38;5;241m2\u001b[39m]\n",
      "File \u001b[0;32m~/Documents/recherche/pinn/gitlab/jinns/utils/_utils.py:197\u001b[0m, in \u001b[0;36mcreate_PINN.<locals>.make_mlp.<locals>.apply_fn\u001b[0;34m(x, u_params, eq_params)\u001b[0m\n\u001b[1;32m    194\u001b[0m \u001b[38;5;28;01mdef\u001b[39;00m \u001b[38;5;21mapply_fn\u001b[39m(x, u_params, eq_params):\n\u001b[1;32m    195\u001b[0m     model \u001b[38;5;241m=\u001b[39m eqx\u001b[38;5;241m.\u001b[39mcombine(u_params, static)\n\u001b[1;32m    196\u001b[0m     eq_params_flatten \u001b[38;5;241m=\u001b[39m jnp\u001b[38;5;241m.\u001b[39mconcatenate(\n\u001b[0;32m--> 197\u001b[0m         [e\u001b[38;5;241m.\u001b[39mravel() \u001b[38;5;28;01mfor\u001b[39;00m k, e \u001b[38;5;129;01min\u001b[39;00m \u001b[43meq_params\u001b[49m\u001b[38;5;241;43m.\u001b[39;49m\u001b[43mitems\u001b[49m() \u001b[38;5;28;01mif\u001b[39;00m k \u001b[38;5;129;01min\u001b[39;00m with_eq_params]\n\u001b[1;32m    198\u001b[0m     )\n\u001b[1;32m    199\u001b[0m     \u001b[38;5;66;03m# if eq_params_flatten.shape[-1] == 1:\u001b[39;00m\n\u001b[1;32m    200\u001b[0m     \u001b[38;5;66;03m#    eq_params_flatten = jnp.repeat(\u001b[39;00m\n\u001b[1;32m    201\u001b[0m     \u001b[38;5;66;03m#        eq_params_flatten, x.shape[0], axis=0\u001b[39;00m\n\u001b[1;32m    202\u001b[0m     \u001b[38;5;66;03m#    )\u001b[39;00m\n\u001b[1;32m    203\u001b[0m     x_eq_params \u001b[38;5;241m=\u001b[39m jnp\u001b[38;5;241m.\u001b[39mconcatenate([x, eq_params_flatten], axis\u001b[38;5;241m=\u001b[39m\u001b[38;5;241m-\u001b[39m\u001b[38;5;241m1\u001b[39m)\n",
      "\u001b[0;31mAttributeError\u001b[0m: 'NoneType' object has no attribute 'items'"
     ]
    }
   ],
   "source": [
    "jinns.data.plot2d(\n",
    "    fun = lambda x: p(x, p_init_nn_params, None),\n",
    "    xy_data=val_xy_data,\n",
    "    title = \"p(x, y)\"\n",
    ")"
   ]
  },
  {
   "cell_type": "markdown",
   "id": "68caa791",
   "metadata": {},
   "source": [
    "## Model parameters"
   ]
  },
  {
   "cell_type": "markdown",
   "id": "b587a231",
   "metadata": {},
   "source": [
    "Here we set the density $\\rho=1$ and we simplify the problem with respect to the article: $\\nu$ is the viscosity parameter which we fix and feed as input to the PINN as done in the article; $\\nu=0.00061$"
   ]
  },
  {
   "cell_type": "code",
   "execution_count": 14,
   "id": "25e958c4",
   "metadata": {},
   "outputs": [],
   "source": [
    "rho = 1.\n",
    "nu = 0.00061\n",
    "\n",
    "Delta_p = 0.1\n",
    "d = 2 * R"
   ]
  },
  {
   "cell_type": "markdown",
   "id": "67da742b",
   "metadata": {},
   "source": [
    "A set of parameters as required by the losses' `evaluate`. Here we adapt to the particular dynamic loss which requires the keys `u` and `p`."
   ]
  },
  {
   "cell_type": "code",
   "execution_count": 15,
   "id": "0d6829b4",
   "metadata": {},
   "outputs": [],
   "source": [
    "# initiate parameters dictionary\n",
    "init_params = {}\n",
    "init_params['nn_params'] = {\n",
    "    \"u\": u_init_nn_params,\n",
    "    \"p\": p_init_nn_params\n",
    "}\n",
    "init_params[\"eq_params\"] = {\"rho\":rho, **train_data.get_batch()[-1]} # NOTE the additional batch is a dict "
   ]
  },
  {
   "cell_type": "markdown",
   "id": "ca7fbaef",
   "metadata": {},
   "source": [
    "## Analytical solution\n",
    "In this case, the analytical solution is known:\n",
    "$$\n",
    "u_a = \\frac{\\Delta p}{2\\nu\\rho L}(\\frac{d^2}{4} - y^2)\n",
    "$$"
   ]
  },
  {
   "cell_type": "code",
   "execution_count": 16,
   "id": "9cd4db15-e476-46de-9d98-a74b25b859df",
   "metadata": {},
   "outputs": [
    {
     "data": {
      "text/plain": [
       "Text(0.5, 1.0, 'True solution along a cross section')"
      ]
     },
     "execution_count": 16,
     "metadata": {},
     "output_type": "execute_result"
    },
    {
     "data": {
      "image/png": "[encoded data removed]",
      "text/plain": [
       "<Figure size 640x480 with 1 Axes>"
      ]
     },
     "metadata": {},
     "output_type": "display_data"
    }
   ],
   "source": [
    "def u_true(y):\n",
    "    return Delta_p / (2 * nu * rho * L) * ((d / 2) ** 2 - y ** 2)\n",
    "\n",
    "plt.plot(train_data.omega[:, 1].sort(axis=0), vmap(u_true, (0), 0)(train_data.omega[:, 1].sort(axis=0)))\n",
    "plt.title(r\"True solution along a cross section\")"
   ]
  },
  {
   "cell_type": "markdown",
   "id": "aa14a602-1b0e-4582-876e-99d0322c57a0",
   "metadata": {},
   "source": [
    "## Loss construction"
   ]
  },
  {
   "cell_type": "code",
   "execution_count": 17,
   "id": "a44c9669",
   "metadata": {},
   "outputs": [],
   "source": [
    "mc_loss = jinns.loss.MassConservation2DStatio(nn_key='u')\n",
    "ns_loss = jinns.loss.NavierStokes2DStatio(u_key='u', p_key='p')"
   ]
  },
  {
   "cell_type": "code",
   "execution_count": 18,
   "id": "e9dc75c2",
   "metadata": {},
   "outputs": [
    {
     "name": "stderr",
     "output_type": "stream",
     "text": [
      "/home/hugo/Documents/recherche/pinn/gitlab/jinns/loss/_LossPDE.py:284: UserWarning: Missing boundary function or no boundary condition.Boundary function is thus ignored.\n",
      "  warnings.warn(\n"
     ]
    }
   ],
   "source": [
    "loss_weights = {\"dyn_loss\":1.}\n",
    "    \n",
    "loss = jinns.loss.SystemLossPDE(\n",
    "    u_dict={'u':u, 'p':p},\n",
    "    loss_weights=loss_weights,\n",
    "    dynamic_loss_dict={'mass_conservation':mc_loss, 'navier_stokes':ns_loss},\n",
    "    nn_type_dict={'u':'nn_statio', 'p':'nn_statio'}\n",
    ")"
   ]
  },
  {
   "cell_type": "code",
   "execution_count": 19,
   "id": "5f5418d5-629f-4745-ad0f-3778020cc635",
   "metadata": {},
   "outputs": [
    {
     "name": "stdout",
     "output_type": "stream",
     "text": [
      "total loss: 0.01\n",
      "Individual losses: {'boundary_loss': '0.00', 'dyn_loss': '0.01', 'norm_loss': '0.00', 'observations': '0.00'}\n",
      "{'eq_params': {'nu': Array([[0.],\n",
      "       [0.],\n",
      "       [0.],\n",
      "       [0.],\n",
      "       [0.],\n",
      "       [0.],\n",
      "       [0.],\n",
      "       [0.],\n",
      "       [0.],\n",
      "       [0.],\n",
      "       [0.],\n",
      "       [0.],\n",
      "       [0.],\n",
      "       [0.],\n",
      "       [0.],\n",
      "       [0.],\n",
      "       [0.],\n",
      "       [0.],\n",
      "       [0.],\n",
      "       [0.],\n",
      "       [0.],\n",
      "       [0.],\n",
      "       [0.],\n",
      "       [0.],\n",
      "       [0.],\n",
      "       [0.],\n",
      "       [0.],\n",
      "       [0.],\n",
      "       [0.],\n",
      "       [0.],\n",
      "       [0.],\n",
      "       [0.]], dtype=float32), 'rho': Array(0., dtype=float32, weak_type=True)}, 'nn_params': {'p': _MLP(\n",
      "  layers=[\n",
      "    Linear(\n",
      "      weight=f32[50,3],\n",
      "      bias=f32[50],\n",
      "      in_features=3,\n",
      "      out_features=50,\n",
      "      use_bias=True\n",
      "    ),\n",
      "    None,\n",
      "    Linear(\n",
      "      weight=f32[50,50],\n",
      "      bias=f32[50],\n",
      "      in_features=50,\n",
      "      out_features=50,\n",
      "      use_bias=True\n",
      "    ),\n",
      "    None,\n",
      "    Linear(\n",
      "      weight=f32[50,50],\n",
      "      bias=f32[50],\n",
      "      in_features=50,\n",
      "      out_features=50,\n",
      "      use_bias=True\n",
      "    ),\n",
      "    None,\n",
      "    Linear(\n",
      "      weight=f32[50,50],\n",
      "      bias=f32[50],\n",
      "      in_features=50,\n",
      "      out_features=50,\n",
      "      use_bias=True\n",
      "    ),\n",
      "    None,\n",
      "    Linear(\n",
      "      weight=f32[50,50],\n",
      "      bias=f32[50],\n",
      "      in_features=50,\n",
      "      out_features=50,\n",
      "      use_bias=True\n",
      "    ),\n",
      "    None,\n",
      "    Linear(\n",
      "      weight=f32[50,50],\n",
      "      bias=f32[50],\n",
      "      in_features=50,\n",
      "      out_features=50,\n",
      "      use_bias=True\n",
      "    ),\n",
      "    None,\n",
      "    Linear(\n",
      "      weight=f32[50,50],\n",
      "      bias=f32[50],\n",
      "      in_features=50,\n",
      "      out_features=50,\n",
      "      use_bias=True\n",
      "    ),\n",
      "    None,\n",
      "    Linear(\n",
      "      weight=f32[3,50],\n",
      "      bias=f32[3],\n",
      "      in_features=50,\n",
      "      out_features=3,\n",
      "      use_bias=True\n",
      "    )\n",
      "  ]\n",
      "), 'u': _MLP(\n",
      "  layers=[\n",
      "    Linear(\n",
      "      weight=f32[50,3],\n",
      "      bias=f32[50],\n",
      "      in_features=3,\n",
      "      out_features=50,\n",
      "      use_bias=True\n",
      "    ),\n",
      "    None,\n",
      "    Linear(\n",
      "      weight=f32[50,50],\n",
      "      bias=f32[50],\n",
      "      in_features=50,\n",
      "      out_features=50,\n",
      "      use_bias=True\n",
      "    ),\n",
      "    None,\n",
      "    Linear(\n",
      "      weight=f32[50,50],\n",
      "      bias=f32[50],\n",
      "      in_features=50,\n",
      "      out_features=50,\n",
      "      use_bias=True\n",
      "    ),\n",
      "    None,\n",
      "    Linear(\n",
      "      weight=f32[50,50],\n",
      "      bias=f32[50],\n",
      "      in_features=50,\n",
      "      out_features=50,\n",
      "      use_bias=True\n",
      "    ),\n",
      "    None,\n",
      "    Linear(\n",
      "      weight=f32[50,50],\n",
      "      bias=f32[50],\n",
      "      in_features=50,\n",
      "      out_features=50,\n",
      "      use_bias=True\n",
      "    ),\n",
      "    None,\n",
      "    Linear(\n",
      "      weight=f32[50,50],\n",
      "      bias=f32[50],\n",
      "      in_features=50,\n",
      "      out_features=50,\n",
      "      use_bias=True\n",
      "    ),\n",
      "    None,\n",
      "    Linear(\n",
      "      weight=f32[50,50],\n",
      "      bias=f32[50],\n",
      "      in_features=50,\n",
      "      out_features=50,\n",
      "      use_bias=True\n",
      "    ),\n",
      "    None,\n",
      "    Linear(\n",
      "      weight=f32[3,50],\n",
      "      bias=f32[3],\n",
      "      in_features=50,\n",
      "      out_features=3,\n",
      "      use_bias=True\n",
      "    )\n",
      "  ]\n",
      ")}}\n"
     ]
    }
   ],
   "source": [
    "# Testing the loss function\n",
    "losses_and_grad = jax.value_and_grad(loss.evaluate, 0, has_aux=True)\n",
    "losses, grads = losses_and_grad(\n",
    "    init_params,\n",
    "    batch = train_data.get_batch()\n",
    ")\n",
    "\n",
    "\n",
    "l_tot, dict_losses = losses\n",
    "print(f\"total loss: {l_tot:.2f}\")\n",
    "print(f\"Individual losses: { {key: f'{val:.2f}' for key, val in dict_losses.items()} }\")\n",
    "print(grads)"
   ]
  },
  {
   "cell_type": "markdown",
   "id": "9c7b53e5",
   "metadata": {},
   "source": [
    "## Learning the neural network parameters\n",
    "The learning process here consider known equation parameters `eq_params`. We thus only update `nn_params`"
   ]
  },
  {
   "cell_type": "code",
   "execution_count": 20,
   "id": "4e2c75a4-e3de-4d10-9424-4ee4ae206da3",
   "metadata": {},
   "outputs": [],
   "source": [
    "params = init_params"
   ]
  },
  {
   "cell_type": "code",
   "execution_count": 21,
   "id": "8d0106ad-d1e4-4fa8-958d-c8ebd4572d76",
   "metadata": {},
   "outputs": [],
   "source": [
    "# Optimizer\n",
    "import optax\n",
    "from jaxopt import OptaxSolver\n",
    "\n",
    "\n",
    "tx = optax.adam(learning_rate=1e-4)\n",
    "solver = OptaxSolver(opt=tx, fun=loss,\n",
    "                     has_aux=True, # because the objective has aux output\n",
    "                     maxiter=50000)\n"
   ]
  },
  {
   "cell_type": "code",
   "execution_count": 22,
   "id": "055a7e63-4d0e-4246-b792-2007a0deeaab",
   "metadata": {},
   "outputs": [],
   "source": [
    "n_iter = int(20000)\n",
    "pinn_solver = jinns.solver.PinnSolver(\n",
    "    optax_solver=solver,\n",
    "    loss=loss,\n",
    "    n_iter=n_iter\n",
    ")"
   ]
  },
  {
   "cell_type": "code",
   "execution_count": null,
   "id": "df0ab21d-bfc1-4e81-8708-df8b30d0173b",
   "metadata": {},
   "outputs": [
    {
     "name": "stderr",
     "output_type": "stream",
     "text": [
      "Running for 20,000 iterations:  35%|██    | 7000/20000 [00:14<00:28, 453.66it/s]"
     ]
    }
   ],
   "source": [
    "params, total_loss_list, loss_by_term_dict, _, _ = pinn_solver.solve(\n",
    "    init_params=params,\n",
    "    data=train_data\n",
    ")"
   ]
  },
  {
   "cell_type": "markdown",
   "id": "1281bbd7",
   "metadata": {},
   "source": [
    "## Results"
   ]
  },
  {
   "cell_type": "markdown",
   "id": "50941bc8",
   "metadata": {},
   "source": [
    "Plot the loss values"
   ]
  },
  {
   "cell_type": "code",
   "execution_count": null,
   "id": "2cd778b4-d9d9-4f69-ad02-2a3f7eacf59d",
   "metadata": {},
   "outputs": [],
   "source": [
    "for loss_name, loss_values in loss_by_term_dict.items():\n",
    "    plt.plot(jnp.log10(loss_weights[loss_name] * loss_values), label=loss_name)\n",
    "plt.plot(jnp.log10(total_loss_list), label=\"total loss\")\n",
    "plt.legend()\n",
    "plt.show();"
   ]
  },
  {
   "cell_type": "markdown",
   "id": "0d989507",
   "metadata": {},
   "source": [
    "Plot the ODE solutions learned by the PINN"
   ]
  },
  {
   "cell_type": "code",
   "execution_count": null,
   "id": "6d473743-c9a8-4406-b18c-256496cfde59",
   "metadata": {},
   "outputs": [],
   "source": [
    "jinns.data.plot2d(\n",
    "    fun = lambda x: u(x, params['nn_params']['u'], None)[0],\n",
    "    xy_data = val_xy_data,\n",
    "    title=\"u_est, x(x ,y)\"\n",
    ")\n",
    "\n",
    "jinns.data.plot2d(\n",
    "    fun = lambda x: p(x, params['nn_params']['p'], None),\n",
    "    xy_data = val_xy_data,\n",
    "    title=\"p_est(x, y)\"\n",
    ")"
   ]
  },
  {
   "cell_type": "code",
   "execution_count": null,
   "id": "b0fe65e0-4371-4cc0-82ad-9c8da2092dc0",
   "metadata": {},
   "outputs": [],
   "source": [
    "params[\"eq_params\"]['nu'] = jnp.array(0.00061)\n",
    "with jax.default_device(jax.devices(\"cpu\")[0]): \n",
    "    v_u_est_y_61 = vmap(\n",
    "        # compute average over array x with y_j fixed.\n",
    "        lambda x, y_j: vmap(lambda z: u(jnp.stack([z, y_j], axis=-1), params[\"nn_params\"][\"u\"], params[\"eq_params\"])[0], \n",
    "                            0, 0)(x).mean(), \n",
    "        (None, 0), \n",
    "        0)\n",
    "\n",
    "\n",
    "    plt.plot(train_data.omega[:, 1].sort(axis=0),\n",
    "             v_u_est_y_61(train_data.omega[:, 0].sort(axis=0),\n",
    "                       train_data.omega[:, 1].sort(axis=0)),\n",
    "             label=\"Estimated\")\n",
    "    plt.plot(train_data.omega[:, 1].sort(axis=0),\n",
    "             vmap(u_true, (0), 0)(train_data.omega[:, 1].sort(axis=0)),\n",
    "             label=\"True\")\n",
    "    plt.xlabel(\"y\")\n",
    "    plt.ylabel(r\"$\\approx \\int u(x, y) \\, dx$\")\n",
    "    plt.legend()\n",
    "    plt.title(r\"True and estimated solutions along a cross section\")\n",
    "    plt.show()"
   ]
  },
  {
   "cell_type": "code",
   "execution_count": null,
   "id": "f5b3b04e",
   "metadata": {},
   "outputs": [],
   "source": [
    "?jax.numpy.full"
   ]
  },
  {
   "cell_type": "code",
   "execution_count": null,
   "id": "06863e33",
   "metadata": {},
   "outputs": [],
   "source": []
  }
 ],
 "metadata": {
  "kernelspec": {
   "display_name": "Python 3 (ipykernel)",
   "language": "python",
   "name": "python3"
  },
  "language_info": {
   "codemirror_mode": {
    "name": "ipython",
    "version": 3
   },
   "file_extension": ".py",
   "mimetype": "text/x-python",
   "name": "python",
   "nbconvert_exporter": "python",
   "pygments_lexer": "ipython3",
   "version": "3.10.11"
  },
  "vscode": {
   "interpreter": {
    "hash": "991718e94fb5d91fa62c7598521d2199c208ff1ff700f1ac060f334be0bee194"
   }
  }
 },
 "nbformat": 4,
 "nbformat_minor": 5
}
